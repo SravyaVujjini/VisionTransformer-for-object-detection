{
  "nbformat": 4,
  "nbformat_minor": 0,
  "metadata": {
    "colab": {
      "provenance": []
    },
    "kernelspec": {
      "name": "python3",
      "display_name": "Python 3"
    },
    "language_info": {
      "name": "python"
    }
  },
  "cells": [
    {
      "cell_type": "markdown",
      "source": [
        "# **Implementation of the Vision Transformer for Object Detection**"
      ],
      "metadata": {
        "id": "lTy7DE-7e8pK"
      }
    },
    {
      "cell_type": "code",
      "source": [
        "from google.colab import drive\n",
        "drive.mount('/content/drive')"
      ],
      "metadata": {
        "colab": {
          "base_uri": "https://localhost:8080/"
        },
        "id": "N0xC2bXEL-tP",
        "outputId": "f5d8db5b-d60c-40d3-c420-64ccf9f5bd4c"
      },
      "execution_count": null,
      "outputs": [
        {
          "output_type": "stream",
          "name": "stdout",
          "text": [
            "Drive already mounted at /content/drive; to attempt to forcibly remount, call drive.mount(\"/content/drive\", force_remount=True).\n"
          ]
        }
      ]
    },
    {
      "cell_type": "markdown",
      "source": [
        "## **Importing Libraries**"
      ],
      "metadata": {
        "id": "Q51B2XoJetB1"
      }
    },
    {
      "cell_type": "code",
      "source": [
        "\n",
        "import torch\n",
        "import torchvision\n",
        "from torchvision import transforms\n",
        "from torch.utils.data import Dataset, DataLoader\n",
        "import torch.nn as nn\n",
        "import torch.nn.functional as F\n",
        "import math\n",
        "import matplotlib.pyplot as plt\n",
        "import torchvision.utils as vutils\n",
        "import matplotlib.pyplot as plt\n",
        "import numpy as np\n",
        "import torch.optim as optim\n",
        "from sklearn.metrics import accuracy_score\n",
        "from tqdm import tqdm\n",
        "from PIL import Image\n",
        "import os\n",
        "import json"
      ],
      "metadata": {
        "id": "lSU6B7VsiOcL"
      },
      "execution_count": null,
      "outputs": []
    },
    {
      "cell_type": "markdown",
      "source": [
        "## **Data Preprocessing**"
      ],
      "metadata": {
        "id": "Pyy9Kg2-ewfb"
      }
    },
    {
      "cell_type": "code",
      "source": [
        "\n",
        "tomato_base_dir = \"/content/drive/MyDrive/tomato/\"\n",
        "path_images_train = os.path.join(tomato_base_dir, \"train/\")\n",
        "path_annot_train = os.path.join(tomato_base_dir, \"train/_annotations.coco.json\")"
      ],
      "metadata": {
        "id": "HMxQ45uLRU90"
      },
      "execution_count": null,
      "outputs": []
    },
    {
      "cell_type": "code",
      "source": [
        "def custom_collate(batch):\n",
        "    images, targets = zip(*batch)\n",
        "\n",
        "    resized_images = [transforms.functional.resize(img, (32, 32)) for img in images]\n",
        "\n",
        "    return resized_images, targets"
      ],
      "metadata": {
        "id": "2lVSOz95dwKN"
      },
      "execution_count": null,
      "outputs": []
    },
    {
      "cell_type": "code",
      "source": [
        "import os\n",
        "import torch\n",
        "from torchvision import transforms\n",
        "from torchvision.datasets import CocoDetection\n",
        "from torch.utils.data import DataLoader\n",
        "import matplotlib.pyplot as plt\n",
        "\n",
        "# Set your paths\n",
        "tomato_base_dir = \"/content/drive/MyDrive/tomato/\"\n",
        "path_images_train = os.path.join(tomato_base_dir, \"train/\")\n",
        "path_annot_train = os.path.join(tomato_base_dir, \"train/_annotations.coco.json\")\n",
        "\n",
        "# Define your transformation pipeline\n",
        "transform = transforms.Compose([\n",
        "    transforms.ToTensor(),\n",
        "    # Add other transformations as needed (e.g., normalization, data augmentation)\n",
        "])\n",
        "\n",
        "# Create a CocoDataset using torchvision\n",
        "coco_dataset = CocoDetection(root=path_images_train, annFile=path_annot_train, transform=transform)\n",
        "\n",
        "# Define a DataLoader\n",
        "trainloader = DataLoader(coco_dataset, batch_size=32, shuffle=True,collate_fn=custom_collate)\n",
        "\n",
        "# Get one batch of images and annotations\n",
        "dataiter = iter(trainloader)\n",
        "images, targets = next(dataiter)\n",
        "\n"
      ],
      "metadata": {
        "colab": {
          "base_uri": "https://localhost:8080/"
        },
        "id": "mKC_lmNJZyhl",
        "outputId": "8e1e80aa-4892-408e-b1f8-9f6fc6428432"
      },
      "execution_count": null,
      "outputs": [
        {
          "output_type": "stream",
          "name": "stdout",
          "text": [
            "loading annotations into memory...\n",
            "Done (t=0.01s)\n",
            "creating index...\n",
            "index created!\n"
          ]
        }
      ]
    },
    {
      "cell_type": "markdown",
      "source": [
        "## **Dividing the images into patches**"
      ],
      "metadata": {
        "id": "ncWYBJ7O70Os"
      }
    },
    {
      "cell_type": "code",
      "source": [
        "\n",
        "def split_image_into_patches(images, patch_size):\n",
        "    batch_size, num_channels, height, width = images.shape\n",
        "    num_vert_patches = height // patch_size\n",
        "    num_horiz_patches = width // patch_size\n",
        "\n",
        "    patches = images.unfold(2, patch_size, patch_size).unfold(3, patch_size, patch_size)\n",
        "    patches = patches.reshape(batch_size, num_channels, num_vert_patches*num_horiz_patches, patch_size, patch_size)\n",
        "    patches = patches.permute(0, 2, 1, 3, 4)\n",
        "    patches = patches.reshape(batch_size, num_vert_patches*num_horiz_patches, num_channels*patch_size*patch_size)\n",
        "\n",
        "    return patches"
      ],
      "metadata": {
        "id": "bWZ1y3aydEog"
      },
      "execution_count": null,
      "outputs": []
    },
    {
      "cell_type": "markdown",
      "source": [
        "## **Visualizing the patches**"
      ],
      "metadata": {
        "id": "CTFLxRGq74tj"
      }
    },
    {
      "cell_type": "code",
      "source": [
        "# Get one batch of images\n",
        "dataiter = iter(trainloader)\n",
        "images, labels = next(dataiter)\n",
        "\n",
        "# Get one image from the batch\n",
        "image = images[0]\n",
        "\n",
        "# Split the image into patches\n",
        "patches = split_image_into_patches(image.unsqueeze(0), 8)\n",
        "\n",
        "# Calculate the number of patches in each dimension to create a 4x4 grid of 4x4 patches\n",
        "num_patches = patches.shape[1]\n",
        "num_cols = 4\n",
        "num_rows = 4\n",
        "\n",
        "# Display the original image\n",
        "plt.figure(figsize=(4,4))\n",
        "plt.imshow(np.moveaxis(image.numpy(), 0, -1))\n",
        "plt.axis('off')\n",
        "plt.show()\n",
        "\n",
        "# Display the patches in a grid format\n",
        "plt.figure(figsize=(4,4))\n",
        "for i in range(num_rows):\n",
        "    for j in range(num_cols):\n",
        "        plt.subplot(num_rows, num_cols, i*num_cols+j+1)\n",
        "        plt.imshow(np.transpose(patches[0, i*num_cols+j].reshape(3,8,8), (1,2,0)))\n",
        "        plt.axis('off')\n",
        "plt.show()"
      ],
      "metadata": {
        "colab": {
          "base_uri": "https://localhost:8080/",
          "height": 673
        },
        "id": "nFkih_oCdVX6",
        "outputId": "39dbb16e-ef7a-4490-b0a8-6dd3f87f1f6b"
      },
      "execution_count": null,
      "outputs": [
        {
          "output_type": "display_data",
          "data": {
            "text/plain": [
              "<Figure size 400x400 with 1 Axes>"
            ],
            "image/png": "[encoded data removed]"
          },
          "metadata": {}
        },
        {
          "output_type": "display_data",
          "data": {
            "text/plain": [
              "<Figure size 400x400 with 16 Axes>"
            ],
            "image/png": "[encoded data removed]"
          },
          "metadata": {}
        }
      ]
    },
    {
      "cell_type": "markdown",
      "source": [
        "## **Function that takes the flattened patches and projects it to the embedding dimension**"
      ],
      "metadata": {
        "id": "KyHUBeNq8Eul"
      }
    },
    {
      "cell_type": "code",
      "source": [
        "\n",
        "def embed_patches(patches, embedding_dim):\n",
        "\n",
        "    # Define the linear embedding layer\n",
        "    embed_layer = nn.Linear(in_features=patches.shape[-1], out_features=embedding_dim)\n",
        "\n",
        "    # Apply the embedding layer to the flattened tensor\n",
        "    embed_patches = embed_layer(patches)  # shape: [num_images * num_patches, embedding_dim]\n",
        "\n",
        "    return embed_patches"
      ],
      "metadata": {
        "id": "oe-W4-DEfPfC"
      },
      "execution_count": null,
      "outputs": []
    },
    {
      "cell_type": "markdown",
      "source": [
        "## **Function to add the positional encoding to the embedding patches**\n"
      ],
      "metadata": {
        "id": "jMh7nWIx8Op5"
      }
    },
    {
      "cell_type": "code",
      "source": [
        "def get_position_encoding(embeddings):\n",
        "    num_images, num_patches, embedding_dim = embeddings.shape\n",
        "    seq_length = num_patches * num_images\n",
        "    num_patches = num_patches\n",
        "    num_images = num_images\n",
        "\n",
        "    pos_encoding = torch.zeros(seq_length, embedding_dim)\n",
        "    position = torch.arange(0, seq_length, dtype=torch.float).unsqueeze(1)\n",
        "    div_term = torch.exp(torch.arange(0, embedding_dim, 2, dtype=torch.float) * (-math.log(10000.0) / embedding_dim))\n",
        "    pos_encoding[:, 0::2] = torch.sin(position * div_term)\n",
        "    pos_encoding[:, 1::2] = torch.cos(position * div_term)\n",
        "    pos_encoding = pos_encoding[:num_patches, :].unsqueeze(0).repeat(num_images, 1, 1)\n",
        "    pos_encoding = pos_encoding.reshape(-1, pos_encoding.size(-1))\n",
        "    pos_encoding = pos_encoding.view(num_images, num_patches, embedding_dim)\n",
        "\n",
        "    return pos_encoding\n"
      ],
      "metadata": {
        "id": "pOPmFmVpfbNL"
      },
      "execution_count": null,
      "outputs": []
    },
    {
      "cell_type": "markdown",
      "source": [
        "## **Encoder block function with Multi-head attention and the fully connected network**\n"
      ],
      "metadata": {
        "id": "dg6cCWkL8Tvd"
      }
    },
    {
      "cell_type": "code",
      "source": [
        "# Define the Encoder block with multi-head attention\n",
        "class EncoderBlock(nn.Module):\n",
        "    def __init__(self, embed_dim, num_heads):\n",
        "        super().__init__()\n",
        "        self.norm1 = nn.LayerNorm(embed_dim)\n",
        "        self.norm2 = nn.LayerNorm(embed_dim)\n",
        "        self.mha = nn.MultiheadAttention(embed_dim, num_heads)\n",
        "        self.ffn = nn.Sequential(\n",
        "            nn.Linear(embed_dim, 6*embed_dim),\n",
        "            nn.GELU(),\n",
        "            nn.Linear(6*embed_dim, embed_dim)\n",
        "        )\n",
        "\n",
        "    def forward(self, x):\n",
        "        # Layer normalization\n",
        "        x_norm = self.norm1(x)\n",
        "\n",
        "        # Multi-head attention with residual connection\n",
        "        attn_output, _ = self.mha(x_norm, x_norm, x_norm)\n",
        "        x = x + attn_output\n",
        "\n",
        "        # Layer normalization\n",
        "        x_norm = self.norm2(x)\n",
        "\n",
        "        # Feed-forward network with residual connection\n",
        "        ffn_output = self.ffn(x_norm)\n",
        "        x = x + ffn_output\n",
        "\n",
        "        return x"
      ],
      "metadata": {
        "id": "-gCHYDk-f07T"
      },
      "execution_count": null,
      "outputs": []
    },
    {
      "cell_type": "markdown",
      "source": [
        "## **MLP Classifer Head**"
      ],
      "metadata": {
        "id": "kP-Xqa2_8a6o"
      }
    },
    {
      "cell_type": "code",
      "source": [
        "class MLPClassifier(nn.Module):\n",
        "    def __init__(self, input_size, hidden_size, num_classes):\n",
        "        super(MLPClassifier, self).__init__()\n",
        "        self.fc1 = nn.Linear(input_size, hidden_size)\n",
        "        self.relu = nn.ReLU()\n",
        "        self.fc2 = nn.Linear(hidden_size, num_classes)\n",
        "\n",
        "    def forward(self, x):\n",
        "        out = self.fc1(x)\n",
        "        out = self.relu(out)\n",
        "        out = self.fc2(out)\n",
        "        # out = self.relu(out)\n",
        "        # out = self.fc3(out)\n",
        "        return out"
      ],
      "metadata": {
        "id": "lR6l0OQZiA8I"
      },
      "execution_count": null,
      "outputs": []
    },
    {
      "cell_type": "markdown",
      "source": [
        "## **Implementation of the ViT base Model for object Detection**"
      ],
      "metadata": {
        "id": "iM571ILv8fM1"
      }
    },
    {
      "cell_type": "code",
      "source": [
        "class ViTObjectDetector(nn.Module):\n",
        "\n",
        "    def __init__(self, inputs, patch_size, embed_dim, num_heads, mlp_head_units, hidden_size_classifier, num_classes_classifier, device):\n",
        "        super(ViTObjectDetector, self).__init__()\n",
        "\n",
        "        self.inputs = inputs\n",
        "        self.patch_size = patch_size\n",
        "        self.embed_dim = embed_dim\n",
        "        self.num_heads = num_heads\n",
        "        self.mlp_head_units = mlp_head_units\n",
        "        self.hidden_size_classifier = hidden_size_classifier\n",
        "        self.num_classes_classifier = num_classes_classifier\n",
        "        self.device = device\n",
        "\n",
        "        # Create class token\n",
        "        self.class_token = nn.Parameter(torch.rand(1, self.embed_dim))\n",
        "\n",
        "        # Create Encoder blocks\n",
        "        encoder_blocks = []\n",
        "        for i in range(2):\n",
        "            encoder_blocks.append(EncoderBlock(self.embed_dim, self.num_heads))\n",
        "        self.encoder_block = nn.Sequential(*encoder_blocks)\n",
        "\n",
        "        # MLP head for object detection\n",
        "        self.mlp_head = nn.Sequential(\n",
        "            nn.Linear(2176, mlp_head_units),\n",
        "            nn.GELU(),\n",
        "            nn.Dropout(0.3),\n",
        "            nn.Linear(mlp_head_units, 4)  # Final four neurons that output bounding box\n",
        "        )\n",
        "\n",
        "        # MLP Classifier\n",
        "        self.classifier = MLPClassifier(\n",
        "            input_size=2176,\n",
        "            hidden_size=hidden_size_classifier,\n",
        "            num_classes=num_classes_classifier\n",
        "        )\n",
        "\n",
        "    def forward(self, inputs):\n",
        "        # Split image into patches\n",
        "        patches = split_image_into_patches(inputs, self.patch_size)\n",
        "\n",
        "        # Embed patches\n",
        "        embed_layer = embed_patches(patches, self.embed_dim)\n",
        "        embedded_tokens = torch.stack([torch.vstack((self.class_token, embed_layer[i])) for i in range(len(embed_layer))])\n",
        "\n",
        "        # Get position encoding\n",
        "        pos_encoding = get_position_encoding(embedded_tokens)\n",
        "\n",
        "        # Add position encoding to embedded patches\n",
        "        embedded_patches = embedded_tokens + pos_encoding\n",
        "\n",
        "        # Process through Encoder blocks\n",
        "        encoded_sequence = self.encoder_block(embedded_patches)\n",
        "\n",
        "        # Flatten for MLP\n",
        "        flattened_representation = encoded_sequence.flatten(1)\n",
        "\n",
        "        # Apply MLP for object detection\n",
        "        bounding_box = self.mlp_head(flattened_representation)\n",
        "\n",
        "        # Apply MLP Classifier\n",
        "        classification_output = self.classifier(flattened_representation)\n",
        "\n",
        "        return bounding_box, classification_output\n",
        "\n"
      ],
      "metadata": {
        "id": "4wABWHyijtsH"
      },
      "execution_count": null,
      "outputs": []
    },
    {
      "cell_type": "code",
      "source": [
        "# set device\n",
        "device = torch.device('cuda' if torch.cuda.is_available() else 'cpu')\n",
        "\n",
        "model = ViTObjectDetector(inputs = (32,3,32,32), patch_size=8, embed_dim = 128, num_heads= 2, mlp_head_units = 512, hidden_size_classifier=256,\n",
        "    num_classes_classifier=3 , device=device )\n",
        "\n",
        "model.to(device)"
      ],
      "metadata": {
        "colab": {
          "base_uri": "https://localhost:8080/"
        },
        "id": "xhXNUOyRjtos",
        "outputId": "64973158-843c-44e8-8757-a54052e36c14"
      },
      "execution_count": null,
      "outputs": [
        {
          "output_type": "execute_result",
          "data": {
            "text/plain": [
              "ViTObjectDetector(\n",
              "  (encoder_block): Sequential(\n",
              "    (0): EncoderBlock(\n",
              "      (norm1): LayerNorm((128,), eps=1e-05, elementwise_affine=True)\n",
              "      (norm2): LayerNorm((128,), eps=1e-05, elementwise_affine=True)\n",
              "      (mha): MultiheadAttention(\n",
              "        (out_proj): NonDynamicallyQuantizableLinear(in_features=128, out_features=128, bias=True)\n",
              "      )\n",
              "      (ffn): Sequential(\n",
              "        (0): Linear(in_features=128, out_features=768, bias=True)\n",
              "        (1): GELU(approximate='none')\n",
              "        (2): Linear(in_features=768, out_features=128, bias=True)\n",
              "      )\n",
              "    )\n",
              "    (1): EncoderBlock(\n",
              "      (norm1): LayerNorm((128,), eps=1e-05, elementwise_affine=True)\n",
              "      (norm2): LayerNorm((128,), eps=1e-05, elementwise_affine=True)\n",
              "      (mha): MultiheadAttention(\n",
              "        (out_proj): NonDynamicallyQuantizableLinear(in_features=128, out_features=128, bias=True)\n",
              "      )\n",
              "      (ffn): Sequential(\n",
              "        (0): Linear(in_features=128, out_features=768, bias=True)\n",
              "        (1): GELU(approximate='none')\n",
              "        (2): Linear(in_features=768, out_features=128, bias=True)\n",
              "      )\n",
              "    )\n",
              "  )\n",
              "  (mlp_head): Sequential(\n",
              "    (0): Linear(in_features=2176, out_features=512, bias=True)\n",
              "    (1): GELU(approximate='none')\n",
              "    (2): Dropout(p=0.3, inplace=False)\n",
              "    (3): Linear(in_features=512, out_features=4, bias=True)\n",
              "  )\n",
              "  (classifier): MLPClassifier(\n",
              "    (fc1): Linear(in_features=2176, out_features=256, bias=True)\n",
              "    (relu): ReLU()\n",
              "    (fc2): Linear(in_features=256, out_features=3, bias=True)\n",
              "  )\n",
              ")"
            ]
          },
          "metadata": {},
          "execution_count": 242
        }
      ]
    }
  ]
}